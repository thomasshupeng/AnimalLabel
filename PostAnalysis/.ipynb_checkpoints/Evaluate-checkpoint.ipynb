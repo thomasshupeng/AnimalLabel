{
 "cells": [
  {
   "cell_type": "code",
   "execution_count": 67,
   "metadata": {
    "collapsed": true
   },
   "outputs": [],
   "source": [
    "import pandas as pd\n",
    "import numpy as np\n",
    "import matplotlib.pyplot as plt\n",
    "\n",
    "from sklearn.linear_model import LogisticRegression\n",
    "from sklearn.model_selection import train_test_split\n",
    "\n",
    "from sklearn.metrics import roc_curve, auc\n",
    "from sklearn.metrics import confusion_matrix\n",
    "from sklearn.metrics import precision_recall_fscore_support\n",
    "from sklearn.metrics import average_precision_score\n",
    "from sklearn.metrics import precision_recall_curve"
   ]
  },
  {
   "cell_type": "code",
   "execution_count": 37,
   "metadata": {},
   "outputs": [],
   "source": [
    "label = pd.read_csv('Prediction.txt', header=None)\n",
    "prob = pd.read_csv('Prob.txt', sep=\" \", header=None)\n",
    "train_data = pd.read_csv('Train.txt', sep=\"\\t\", header=None)\n",
    "test_data = pd.read_csv('Test.txt', sep=\"\\t\", header=None)"
   ]
  },
  {
   "cell_type": "code",
   "execution_count": 39,
   "metadata": {},
   "outputs": [],
   "source": [
    "label.columns = ['filename', 'true_label', 'pred_label', 'max_prob']\n",
    "train_data.columns = ['filename', 'true_label']\n",
    "test_data.columns = ['filename', 'true_label']\n",
    "# prob.columns = [str(num+1) for num in range(prob.size[1])]"
   ]
  },
  {
   "cell_type": "code",
   "execution_count": 50,
   "metadata": {
    "scrolled": true
   },
   "outputs": [
    {
     "name": "stdout",
     "output_type": "stream",
     "text": [
      "train data has following categorie:\n",
      " [1, 2, 3, 4, 5, 6, 7, 8, 9, 10, 11, 12, 13, 14, 15, 16, 17, 18, 19, 20, 21, 22, 23, 24, 25, 26, 27, 28, 29, 30, 31, 32, 33, 34, 35, 36, 37, 38, 39, 40].\n"
     ]
    }
   ],
   "source": [
    "print(\"train data has following categorie:\\n {}.\".format(sorted(train_data.true_label.unique())))"
   ]
  },
  {
   "cell_type": "code",
   "execution_count": 26,
   "metadata": {},
   "outputs": [
    {
     "data": {
      "text/html": [
       "<div>\n",
       "<style>\n",
       "    .dataframe thead tr:only-child th {\n",
       "        text-align: right;\n",
       "    }\n",
       "\n",
       "    .dataframe thead th {\n",
       "        text-align: left;\n",
       "    }\n",
       "\n",
       "    .dataframe tbody tr th {\n",
       "        vertical-align: top;\n",
       "    }\n",
       "</style>\n",
       "<table border=\"1\" class=\"dataframe\">\n",
       "  <thead>\n",
       "    <tr style=\"text-align: right;\">\n",
       "      <th></th>\n",
       "      <th>filename</th>\n",
       "      <th>true_label</th>\n",
       "      <th>pred_label</th>\n",
       "      <th>max_prob</th>\n",
       "    </tr>\n",
       "  </thead>\n",
       "  <tbody>\n",
       "    <tr>\n",
       "      <th>0</th>\n",
       "      <td>L-YL17-H40A-0853.JPG</td>\n",
       "      <td>2</td>\n",
       "      <td>3</td>\n",
       "      <td>0.512</td>\n",
       "    </tr>\n",
       "    <tr>\n",
       "      <th>1</th>\n",
       "      <td>L-TC17-H10A1-0738.JPG</td>\n",
       "      <td>4</td>\n",
       "      <td>2</td>\n",
       "      <td>0.858</td>\n",
       "    </tr>\n",
       "    <tr>\n",
       "      <th>2</th>\n",
       "      <td>L-LJS17-E9B-0208.JPG</td>\n",
       "      <td>7</td>\n",
       "      <td>5</td>\n",
       "      <td>0.295</td>\n",
       "    </tr>\n",
       "    <tr>\n",
       "      <th>3</th>\n",
       "      <td>L-YL17-H40A-1124.JPG</td>\n",
       "      <td>3</td>\n",
       "      <td>3</td>\n",
       "      <td>1.000</td>\n",
       "    </tr>\n",
       "    <tr>\n",
       "      <th>4</th>\n",
       "      <td>L-TC17-H10A-0673.JPG</td>\n",
       "      <td>10</td>\n",
       "      <td>4</td>\n",
       "      <td>0.810</td>\n",
       "    </tr>\n",
       "  </tbody>\n",
       "</table>\n",
       "</div>"
      ],
      "text/plain": [
       "                filename  true_label  pred_label  max_prob\n",
       "0   L-YL17-H40A-0853.JPG           2           3     0.512\n",
       "1  L-TC17-H10A1-0738.JPG           4           2     0.858\n",
       "2   L-LJS17-E9B-0208.JPG           7           5     0.295\n",
       "3   L-YL17-H40A-1124.JPG           3           3     1.000\n",
       "4   L-TC17-H10A-0673.JPG          10           4     0.810"
      ]
     },
     "execution_count": 26,
     "metadata": {},
     "output_type": "execute_result"
    }
   ],
   "source": [
    "label.head()"
   ]
  },
  {
   "cell_type": "code",
   "execution_count": 27,
   "metadata": {},
   "outputs": [
    {
     "data": {
      "text/html": [
       "<div>\n",
       "<style>\n",
       "    .dataframe thead tr:only-child th {\n",
       "        text-align: right;\n",
       "    }\n",
       "\n",
       "    .dataframe thead th {\n",
       "        text-align: left;\n",
       "    }\n",
       "\n",
       "    .dataframe tbody tr th {\n",
       "        vertical-align: top;\n",
       "    }\n",
       "</style>\n",
       "<table border=\"1\" class=\"dataframe\">\n",
       "  <thead>\n",
       "    <tr style=\"text-align: right;\">\n",
       "      <th></th>\n",
       "      <th>0</th>\n",
       "      <th>1</th>\n",
       "      <th>2</th>\n",
       "      <th>3</th>\n",
       "      <th>4</th>\n",
       "      <th>5</th>\n",
       "      <th>6</th>\n",
       "      <th>7</th>\n",
       "      <th>8</th>\n",
       "      <th>9</th>\n",
       "      <th>...</th>\n",
       "      <th>31</th>\n",
       "      <th>32</th>\n",
       "      <th>33</th>\n",
       "      <th>34</th>\n",
       "      <th>35</th>\n",
       "      <th>36</th>\n",
       "      <th>37</th>\n",
       "      <th>38</th>\n",
       "      <th>39</th>\n",
       "      <th>40</th>\n",
       "    </tr>\n",
       "  </thead>\n",
       "  <tbody>\n",
       "    <tr>\n",
       "      <th>0</th>\n",
       "      <td>0.0</td>\n",
       "      <td>0.001</td>\n",
       "      <td>0.481</td>\n",
       "      <td>0.512</td>\n",
       "      <td>0.000</td>\n",
       "      <td>0.000</td>\n",
       "      <td>0.000</td>\n",
       "      <td>0.000</td>\n",
       "      <td>0.000</td>\n",
       "      <td>0.000</td>\n",
       "      <td>...</td>\n",
       "      <td>0.000</td>\n",
       "      <td>0.0</td>\n",
       "      <td>0.0</td>\n",
       "      <td>0.000</td>\n",
       "      <td>0.000</td>\n",
       "      <td>0.0</td>\n",
       "      <td>0.0</td>\n",
       "      <td>0.0</td>\n",
       "      <td>0.000</td>\n",
       "      <td>0.000</td>\n",
       "    </tr>\n",
       "    <tr>\n",
       "      <th>1</th>\n",
       "      <td>0.0</td>\n",
       "      <td>0.000</td>\n",
       "      <td>0.858</td>\n",
       "      <td>0.004</td>\n",
       "      <td>0.134</td>\n",
       "      <td>0.000</td>\n",
       "      <td>0.000</td>\n",
       "      <td>0.000</td>\n",
       "      <td>0.000</td>\n",
       "      <td>0.000</td>\n",
       "      <td>...</td>\n",
       "      <td>0.000</td>\n",
       "      <td>0.0</td>\n",
       "      <td>0.0</td>\n",
       "      <td>0.000</td>\n",
       "      <td>0.000</td>\n",
       "      <td>0.0</td>\n",
       "      <td>0.0</td>\n",
       "      <td>0.0</td>\n",
       "      <td>0.000</td>\n",
       "      <td>0.000</td>\n",
       "    </tr>\n",
       "    <tr>\n",
       "      <th>2</th>\n",
       "      <td>0.0</td>\n",
       "      <td>0.000</td>\n",
       "      <td>0.029</td>\n",
       "      <td>0.019</td>\n",
       "      <td>0.010</td>\n",
       "      <td>0.295</td>\n",
       "      <td>0.000</td>\n",
       "      <td>0.247</td>\n",
       "      <td>0.002</td>\n",
       "      <td>0.001</td>\n",
       "      <td>...</td>\n",
       "      <td>0.001</td>\n",
       "      <td>0.0</td>\n",
       "      <td>0.0</td>\n",
       "      <td>0.002</td>\n",
       "      <td>0.000</td>\n",
       "      <td>0.0</td>\n",
       "      <td>0.0</td>\n",
       "      <td>0.0</td>\n",
       "      <td>0.001</td>\n",
       "      <td>0.026</td>\n",
       "    </tr>\n",
       "    <tr>\n",
       "      <th>3</th>\n",
       "      <td>0.0</td>\n",
       "      <td>0.000</td>\n",
       "      <td>0.000</td>\n",
       "      <td>1.000</td>\n",
       "      <td>0.000</td>\n",
       "      <td>0.000</td>\n",
       "      <td>0.000</td>\n",
       "      <td>0.000</td>\n",
       "      <td>0.000</td>\n",
       "      <td>0.000</td>\n",
       "      <td>...</td>\n",
       "      <td>0.000</td>\n",
       "      <td>0.0</td>\n",
       "      <td>0.0</td>\n",
       "      <td>0.000</td>\n",
       "      <td>0.000</td>\n",
       "      <td>0.0</td>\n",
       "      <td>0.0</td>\n",
       "      <td>0.0</td>\n",
       "      <td>0.000</td>\n",
       "      <td>0.000</td>\n",
       "    </tr>\n",
       "    <tr>\n",
       "      <th>4</th>\n",
       "      <td>0.0</td>\n",
       "      <td>0.000</td>\n",
       "      <td>0.015</td>\n",
       "      <td>0.067</td>\n",
       "      <td>0.810</td>\n",
       "      <td>0.001</td>\n",
       "      <td>0.031</td>\n",
       "      <td>0.000</td>\n",
       "      <td>0.000</td>\n",
       "      <td>0.008</td>\n",
       "      <td>...</td>\n",
       "      <td>0.000</td>\n",
       "      <td>0.0</td>\n",
       "      <td>0.0</td>\n",
       "      <td>0.012</td>\n",
       "      <td>0.001</td>\n",
       "      <td>0.0</td>\n",
       "      <td>0.0</td>\n",
       "      <td>0.0</td>\n",
       "      <td>0.001</td>\n",
       "      <td>0.000</td>\n",
       "    </tr>\n",
       "  </tbody>\n",
       "</table>\n",
       "<p>5 rows × 41 columns</p>\n",
       "</div>"
      ],
      "text/plain": [
       "    0      1      2      3      4      5      6      7      8      9   ...    \\\n",
       "0  0.0  0.001  0.481  0.512  0.000  0.000  0.000  0.000  0.000  0.000  ...     \n",
       "1  0.0  0.000  0.858  0.004  0.134  0.000  0.000  0.000  0.000  0.000  ...     \n",
       "2  0.0  0.000  0.029  0.019  0.010  0.295  0.000  0.247  0.002  0.001  ...     \n",
       "3  0.0  0.000  0.000  1.000  0.000  0.000  0.000  0.000  0.000  0.000  ...     \n",
       "4  0.0  0.000  0.015  0.067  0.810  0.001  0.031  0.000  0.000  0.008  ...     \n",
       "\n",
       "      31   32   33     34     35   36   37   38     39     40  \n",
       "0  0.000  0.0  0.0  0.000  0.000  0.0  0.0  0.0  0.000  0.000  \n",
       "1  0.000  0.0  0.0  0.000  0.000  0.0  0.0  0.0  0.000  0.000  \n",
       "2  0.001  0.0  0.0  0.002  0.000  0.0  0.0  0.0  0.001  0.026  \n",
       "3  0.000  0.0  0.0  0.000  0.000  0.0  0.0  0.0  0.000  0.000  \n",
       "4  0.000  0.0  0.0  0.012  0.001  0.0  0.0  0.0  0.001  0.000  \n",
       "\n",
       "[5 rows x 41 columns]"
      ]
     },
     "execution_count": 27,
     "metadata": {},
     "output_type": "execute_result"
    }
   ],
   "source": [
    "prob.head()"
   ]
  },
  {
   "cell_type": "code",
   "execution_count": 87,
   "metadata": {},
   "outputs": [],
   "source": [
    "def get_top_label(row):\n",
    "    if row.true_label==4 or row.true_label==5 or row.true_label==14 or row.true_label==20 or row.true_label==10:\n",
    "        return 1\n",
    "    else:\n",
    "        return 0"
   ]
  },
  {
   "cell_type": "code",
   "execution_count": 88,
   "metadata": {},
   "outputs": [],
   "source": [
    "label['is_top_label'] =  label.apply(lambda row: get_top_label(row), axis=1)"
   ]
  },
  {
   "cell_type": "code",
   "execution_count": 89,
   "metadata": {},
   "outputs": [
    {
     "data": {
      "text/html": [
       "<div>\n",
       "<style>\n",
       "    .dataframe thead tr:only-child th {\n",
       "        text-align: right;\n",
       "    }\n",
       "\n",
       "    .dataframe thead th {\n",
       "        text-align: left;\n",
       "    }\n",
       "\n",
       "    .dataframe tbody tr th {\n",
       "        vertical-align: top;\n",
       "    }\n",
       "</style>\n",
       "<table border=\"1\" class=\"dataframe\">\n",
       "  <thead>\n",
       "    <tr style=\"text-align: right;\">\n",
       "      <th></th>\n",
       "      <th>filename</th>\n",
       "      <th>true_label</th>\n",
       "      <th>pred_label</th>\n",
       "      <th>max_prob</th>\n",
       "      <th>is_top_label</th>\n",
       "    </tr>\n",
       "  </thead>\n",
       "  <tbody>\n",
       "    <tr>\n",
       "      <th>0</th>\n",
       "      <td>L-YL17-H40A-0853.JPG</td>\n",
       "      <td>2</td>\n",
       "      <td>3</td>\n",
       "      <td>0.512</td>\n",
       "      <td>0</td>\n",
       "    </tr>\n",
       "    <tr>\n",
       "      <th>1</th>\n",
       "      <td>L-TC17-H10A1-0738.JPG</td>\n",
       "      <td>4</td>\n",
       "      <td>2</td>\n",
       "      <td>0.858</td>\n",
       "      <td>1</td>\n",
       "    </tr>\n",
       "    <tr>\n",
       "      <th>2</th>\n",
       "      <td>L-LJS17-E9B-0208.JPG</td>\n",
       "      <td>7</td>\n",
       "      <td>5</td>\n",
       "      <td>0.295</td>\n",
       "      <td>0</td>\n",
       "    </tr>\n",
       "    <tr>\n",
       "      <th>3</th>\n",
       "      <td>L-YL17-H40A-1124.JPG</td>\n",
       "      <td>3</td>\n",
       "      <td>3</td>\n",
       "      <td>1.000</td>\n",
       "      <td>0</td>\n",
       "    </tr>\n",
       "    <tr>\n",
       "      <th>4</th>\n",
       "      <td>L-TC17-H10A-0673.JPG</td>\n",
       "      <td>10</td>\n",
       "      <td>4</td>\n",
       "      <td>0.810</td>\n",
       "      <td>1</td>\n",
       "    </tr>\n",
       "  </tbody>\n",
       "</table>\n",
       "</div>"
      ],
      "text/plain": [
       "                filename  true_label  pred_label  max_prob  is_top_label\n",
       "0   L-YL17-H40A-0853.JPG           2           3     0.512             0\n",
       "1  L-TC17-H10A1-0738.JPG           4           2     0.858             1\n",
       "2   L-LJS17-E9B-0208.JPG           7           5     0.295             0\n",
       "3   L-YL17-H40A-1124.JPG           3           3     1.000             0\n",
       "4   L-TC17-H10A-0673.JPG          10           4     0.810             1"
      ]
     },
     "execution_count": 89,
     "metadata": {},
     "output_type": "execute_result"
    }
   ],
   "source": [
    "label.head()"
   ]
  },
  {
   "cell_type": "code",
   "execution_count": 90,
   "metadata": {},
   "outputs": [
    {
     "name": "stdout",
     "output_type": "stream",
     "text": [
      "Non major: 770\n",
      "Major: 195\n"
     ]
    }
   ],
   "source": [
    "print(\"Non major: {}\".format(label[label.is_top_label==0].shape[0]))\n",
    "print(\"Major: {}\".format(label[label.is_top_label==1].shape[0]))"
   ]
  },
  {
   "cell_type": "code",
   "execution_count": 91,
   "metadata": {
    "collapsed": true
   },
   "outputs": [],
   "source": [
    "X_train, X_test, y_train, y_test = train_test_split(prob, label.is_top_label,\n",
    "                                                    test_size=0.3, random_state= 0)"
   ]
  },
  {
   "cell_type": "code",
   "execution_count": 136,
   "metadata": {},
   "outputs": [],
   "source": [
    "# logistic_model = LogisticRegression(penalty='l2', C=10) #class_weight = 'balanced'\n",
    "# logistic_model.fit(X_train,y_train)"
   ]
  },
  {
   "cell_type": "code",
   "execution_count": 125,
   "metadata": {
    "collapsed": true
   },
   "outputs": [],
   "source": [
    "def compute_auc_score(X, y, model):\n",
    "    \"\"\" Compute area under curve for roc curve (larger better) \n",
    "        Used to evaluate model with almost balanced class\n",
    "    Parameters\n",
    "    ----------\n",
    "    X: array\n",
    "        Feature array\n",
    "    y: array\n",
    "        True label array\n",
    "    model: logistic regression model (or other model)\n",
    "        trained model\n",
    "        \n",
    "    Returns\n",
    "    -------\n",
    "    double\n",
    "        area under curve\n",
    "    \"\"\"\n",
    "    probas_ = model.predict_proba(X)\n",
    "    fpr, tpr, thresholds = roc_curve(y, probas_[:, 1])\n",
    "    return auc(fpr, tpr)\n",
    "\n",
    "def norm_conf_matrix(Xtest, ytest, model):\n",
    "    \"\"\" Compute normalized confusion matrix for postive/negative accuracy\n",
    "    \"\"\"\n",
    "    cm_1 = confusion_matrix(ytest, model.predict(Xtest))\n",
    "#     cm_1 = cm_1.astype('float')/cm_1.sum(axis=1)[:, None]\n",
    "    return cm_1\n",
    "\n",
    "def custom_threshold(Xtest, model, threshold):\n",
    "    \"\"\" Generate predicted label use defined threshold instead of .5\n",
    "    Example: \n",
    "        y_label = custom_threshold(Xtrain,model,0.8)\n",
    "    \"\"\"\n",
    "    y_pred_prob = model.predict_proba(Xtest)\n",
    "    y_pred = y_pred_prob[:,1] > threshold\n",
    "    return y_pred"
   ]
  },
  {
   "cell_type": "code",
   "execution_count": 137,
   "metadata": {},
   "outputs": [],
   "source": [
    "# print(\"Test accuracy:{0}\".format(logistic_model.score(X_test, y_test)))\n",
    "# print(norm_conf_matrix(X_test, y_test, logistic_model))\n",
    "# print('Postive class precision:%.2f, recall:%.2f and f-score: %.2f'%\n",
    "#       (precision_recall_fscore_support(y_test,logistic_model.predict(X_test))[0][1],\n",
    "#        precision_recall_fscore_support(y_test,logistic_model.predict(X_test))[1][1],\n",
    "#        precision_recall_fscore_support(y_test,logistic_model.predict(X_test))[2][1]))"
   ]
  },
  {
   "cell_type": "code",
   "execution_count": 138,
   "metadata": {},
   "outputs": [],
   "source": [
    "# precision_recall_fscore_support(y_test,logistic_model.predict(X_test))"
   ]
  },
  {
   "cell_type": "code",
   "execution_count": 133,
   "metadata": {
    "collapsed": true
   },
   "outputs": [],
   "source": [
    "def cross_validate_helper(c, train_x, train_y, test_x, test_y):\n",
    "    print()\n",
    "    \n",
    "    print(\"c is {}\".format(c))\n",
    "    logistic_model = LogisticRegression(penalty='l2', C=c) #class_weight = 'balanced'\n",
    "    logistic_model.fit(train_x,train_y)\n",
    "#     model evaludations\n",
    "#     auc = compute_auc_score(test_x,test_y, logistic_model)\n",
    "#     print(\"AUC validation score: %.2f\"%(auc))\n",
    "    pr = precision_recall_fscore_support(test_y,logistic_model.predict(test_x))\n",
    "    print('Postive class precision:%.3f, recall:%.3f and f-score: %.3f'%\n",
    "          (pr[0][1],pr[1][1], pr[2][1]))\n",
    "    \n",
    "    cm = confusion_matrix(test_y, custom_threshold(test_x,logistic_model,0.5))\n",
    "    print(cm)"
   ]
  },
  {
   "cell_type": "code",
   "execution_count": 135,
   "metadata": {},
   "outputs": [
    {
     "name": "stdout",
     "output_type": "stream",
     "text": [
      "\n",
      "c is 0.01\n",
      "Postive class precision:0.000, recall:0.000 and f-score: 0.000\n",
      "[[224   0]\n",
      " [ 66   0]]\n",
      "\n",
      "c is 0.1\n",
      "Postive class precision:0.952, recall:0.303 and f-score: 0.460\n",
      "[[223   1]\n",
      " [ 46  20]]\n",
      "\n",
      "c is 0.5\n",
      "Postive class precision:0.931, recall:0.409 and f-score: 0.568\n",
      "[[222   2]\n",
      " [ 39  27]]\n",
      "\n",
      "c is 1\n",
      "Postive class precision:0.879, recall:0.439 and f-score: 0.586\n",
      "[[220   4]\n",
      " [ 37  29]]\n",
      "\n",
      "c is 10\n",
      "Postive class precision:0.889, recall:0.606 and f-score: 0.721\n",
      "[[219   5]\n",
      " [ 26  40]]\n",
      "\n",
      "c is 50\n",
      "Postive class precision:0.870, recall:0.606 and f-score: 0.714\n",
      "[[218   6]\n",
      " [ 26  40]]\n",
      "\n",
      "c is 100\n",
      "Postive class precision:0.851, recall:0.606 and f-score: 0.708\n",
      "[[217   7]\n",
      " [ 26  40]]\n"
     ]
    },
    {
     "name": "stderr",
     "output_type": "stream",
     "text": [
      "C:\\Users\\sopeng\\AppData\\Local\\Continuum\\anaconda3\\lib\\site-packages\\sklearn\\metrics\\classification.py:1135: UndefinedMetricWarning: Precision and F-score are ill-defined and being set to 0.0 in labels with no predicted samples.\n",
      "  'precision', 'predicted', average, warn_for)\n"
     ]
    }
   ],
   "source": [
    "for c in [0.01, 0.1, 0.5, 1, 10, 50, 100]:\n",
    "    cross_validate_helper(c, X_train, y_train, X_test, y_test)"
   ]
  },
  {
   "cell_type": "code",
   "execution_count": null,
   "metadata": {
    "collapsed": true
   },
   "outputs": [],
   "source": []
  },
  {
   "cell_type": "code",
   "execution_count": null,
   "metadata": {
    "collapsed": true
   },
   "outputs": [],
   "source": []
  },
  {
   "cell_type": "code",
   "execution_count": null,
   "metadata": {
    "collapsed": true
   },
   "outputs": [],
   "source": []
  }
 ],
 "metadata": {
  "kernelspec": {
   "display_name": "Python 3",
   "language": "python",
   "name": "python3"
  },
  "language_info": {
   "codemirror_mode": {
    "name": "ipython",
    "version": 3
   },
   "file_extension": ".py",
   "mimetype": "text/x-python",
   "name": "python",
   "nbconvert_exporter": "python",
   "pygments_lexer": "ipython3",
   "version": "3.6.3"
  }
 },
 "nbformat": 4,
 "nbformat_minor": 2
}
