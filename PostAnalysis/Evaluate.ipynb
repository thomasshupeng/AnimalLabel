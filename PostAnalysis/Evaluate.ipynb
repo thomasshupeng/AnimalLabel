{
 "cells": [
  {
   "cell_type": "code",
   "execution_count": 1,
   "metadata": {
    "collapsed": true
   },
   "outputs": [],
   "source": [
    "import pandas as pd\n",
    "import numpy as np\n",
    "import matplotlib.pyplot as plt\n",
    "\n",
    "from sklearn.linear_model import LogisticRegression\n",
    "from sklearn.model_selection import train_test_split\n",
    "\n",
    "from sklearn.metrics import roc_curve, auc\n",
    "from sklearn.metrics import confusion_matrix\n",
    "from sklearn.metrics import precision_recall_fscore_support\n",
    "from sklearn.metrics import average_precision_score\n",
    "from sklearn.metrics import precision_recall_curve"
   ]
  },
  {
   "cell_type": "code",
   "execution_count": 2,
   "metadata": {
    "collapsed": true
   },
   "outputs": [],
   "source": [
    "label = pd.read_csv('./HasEmpty/Test_Prediction.txt', header=None)\n",
    "prob = pd.read_csv('./HasEmpty/PredictionsOutput.txt', sep=\" \", header=None)\n",
    "train_data = pd.read_csv('./HasEmpty/TNC2_FileName_ID_wo_unknow_FullClass_test_random.txt', sep=\"\\t\", header=None)\n",
    "test_data = pd.read_csv('./HasEmpty/TNC2_FileName_ID_wo_unknow_FullClass_train_random.txt', sep=\"\\t\", header=None)"
   ]
  },
  {
   "cell_type": "code",
   "execution_count": 3,
   "metadata": {
    "collapsed": true
   },
   "outputs": [],
   "source": [
    "label.columns = ['filename', 'true_label', 'pred_label', 'max_prob']\n",
    "train_data.columns = ['filename', 'true_label']\n",
    "test_data.columns = ['filename', 'true_label']\n",
    "# prob.columns = [str(num+1) for num in range(prob.size[1])]"
   ]
  },
  {
   "cell_type": "code",
   "execution_count": 4,
   "metadata": {
    "scrolled": false
   },
   "outputs": [
    {
     "name": "stdout",
     "output_type": "stream",
     "text": [
      "train data has following categorie:\n",
      " [1, 2, 3, 4, 5, 6, 7, 8, 9, 10, 11, 12, 13, 14, 15, 16, 17, 18, 19, 20, 21, 22, 23, 24, 25, 26, 27, 28, 29, 30, 31, 32, 33, 34, 35, 36, 37, 38, 39, 40, 41].\n"
     ]
    }
   ],
   "source": [
    "print(\"train data has following categorie:\\n {}.\".format(sorted(train_data.true_label.unique())))"
   ]
  },
  {
   "cell_type": "code",
   "execution_count": 5,
   "metadata": {
    "collapsed": true
   },
   "outputs": [],
   "source": [
    "# label.groupby(['true_label'])['col3'].mean()"
   ]
  },
  {
   "cell_type": "code",
   "execution_count": 6,
   "metadata": {},
   "outputs": [
    {
     "data": {
      "text/html": [
       "<div>\n",
       "<style>\n",
       "    .dataframe thead tr:only-child th {\n",
       "        text-align: right;\n",
       "    }\n",
       "\n",
       "    .dataframe thead th {\n",
       "        text-align: left;\n",
       "    }\n",
       "\n",
       "    .dataframe tbody tr th {\n",
       "        vertical-align: top;\n",
       "    }\n",
       "</style>\n",
       "<table border=\"1\" class=\"dataframe\">\n",
       "  <thead>\n",
       "    <tr style=\"text-align: right;\">\n",
       "      <th></th>\n",
       "      <th>filename</th>\n",
       "      <th>true_label</th>\n",
       "      <th>pred_label</th>\n",
       "      <th>max_prob</th>\n",
       "    </tr>\n",
       "  </thead>\n",
       "  <tbody>\n",
       "    <tr>\n",
       "      <th>0</th>\n",
       "      <td>L-LJS17-E9B-0177.JPG</td>\n",
       "      <td>7</td>\n",
       "      <td>7</td>\n",
       "      <td>0.285</td>\n",
       "    </tr>\n",
       "    <tr>\n",
       "      <th>1</th>\n",
       "      <td>L-TC17-H12A-0195.JPG</td>\n",
       "      <td>6</td>\n",
       "      <td>4</td>\n",
       "      <td>0.983</td>\n",
       "    </tr>\n",
       "    <tr>\n",
       "      <th>2</th>\n",
       "      <td>L-YL17-I41A-0149.JPG</td>\n",
       "      <td>1</td>\n",
       "      <td>3</td>\n",
       "      <td>0.512</td>\n",
       "    </tr>\n",
       "    <tr>\n",
       "      <th>3</th>\n",
       "      <td>L-TC17-H12A-0084.JPG</td>\n",
       "      <td>6</td>\n",
       "      <td>1</td>\n",
       "      <td>0.997</td>\n",
       "    </tr>\n",
       "    <tr>\n",
       "      <th>4</th>\n",
       "      <td>L-YL17-I42A-0164.JPG</td>\n",
       "      <td>3</td>\n",
       "      <td>3</td>\n",
       "      <td>0.967</td>\n",
       "    </tr>\n",
       "  </tbody>\n",
       "</table>\n",
       "</div>"
      ],
      "text/plain": [
       "               filename  true_label  pred_label  max_prob\n",
       "0  L-LJS17-E9B-0177.JPG           7           7     0.285\n",
       "1  L-TC17-H12A-0195.JPG           6           4     0.983\n",
       "2  L-YL17-I41A-0149.JPG           1           3     0.512\n",
       "3  L-TC17-H12A-0084.JPG           6           1     0.997\n",
       "4  L-YL17-I42A-0164.JPG           3           3     0.967"
      ]
     },
     "execution_count": 6,
     "metadata": {},
     "output_type": "execute_result"
    }
   ],
   "source": [
    "label.head()"
   ]
  },
  {
   "cell_type": "code",
   "execution_count": 7,
   "metadata": {},
   "outputs": [
    {
     "data": {
      "text/html": [
       "<div>\n",
       "<style>\n",
       "    .dataframe thead tr:only-child th {\n",
       "        text-align: right;\n",
       "    }\n",
       "\n",
       "    .dataframe thead th {\n",
       "        text-align: left;\n",
       "    }\n",
       "\n",
       "    .dataframe tbody tr th {\n",
       "        vertical-align: top;\n",
       "    }\n",
       "</style>\n",
       "<table border=\"1\" class=\"dataframe\">\n",
       "  <thead>\n",
       "    <tr style=\"text-align: right;\">\n",
       "      <th></th>\n",
       "      <th>0</th>\n",
       "      <th>1</th>\n",
       "      <th>2</th>\n",
       "      <th>3</th>\n",
       "      <th>4</th>\n",
       "      <th>5</th>\n",
       "      <th>6</th>\n",
       "      <th>7</th>\n",
       "      <th>8</th>\n",
       "      <th>9</th>\n",
       "      <th>...</th>\n",
       "      <th>32</th>\n",
       "      <th>33</th>\n",
       "      <th>34</th>\n",
       "      <th>35</th>\n",
       "      <th>36</th>\n",
       "      <th>37</th>\n",
       "      <th>38</th>\n",
       "      <th>39</th>\n",
       "      <th>40</th>\n",
       "      <th>41</th>\n",
       "    </tr>\n",
       "  </thead>\n",
       "  <tbody>\n",
       "    <tr>\n",
       "      <th>0</th>\n",
       "      <td>0.001</td>\n",
       "      <td>0.001</td>\n",
       "      <td>0.005</td>\n",
       "      <td>0.214</td>\n",
       "      <td>0.015</td>\n",
       "      <td>0.003</td>\n",
       "      <td>0.091</td>\n",
       "      <td>0.285</td>\n",
       "      <td>0.004</td>\n",
       "      <td>0.004</td>\n",
       "      <td>...</td>\n",
       "      <td>0.001</td>\n",
       "      <td>0.003</td>\n",
       "      <td>0.001</td>\n",
       "      <td>0.001</td>\n",
       "      <td>0.002</td>\n",
       "      <td>0.001</td>\n",
       "      <td>0.001</td>\n",
       "      <td>0.002</td>\n",
       "      <td>0.001</td>\n",
       "      <td>0.003</td>\n",
       "    </tr>\n",
       "    <tr>\n",
       "      <th>1</th>\n",
       "      <td>0.000</td>\n",
       "      <td>0.001</td>\n",
       "      <td>0.000</td>\n",
       "      <td>0.000</td>\n",
       "      <td>0.983</td>\n",
       "      <td>0.000</td>\n",
       "      <td>0.000</td>\n",
       "      <td>0.000</td>\n",
       "      <td>0.000</td>\n",
       "      <td>0.000</td>\n",
       "      <td>...</td>\n",
       "      <td>0.000</td>\n",
       "      <td>0.000</td>\n",
       "      <td>0.000</td>\n",
       "      <td>0.000</td>\n",
       "      <td>0.000</td>\n",
       "      <td>0.000</td>\n",
       "      <td>0.000</td>\n",
       "      <td>0.000</td>\n",
       "      <td>0.000</td>\n",
       "      <td>0.000</td>\n",
       "    </tr>\n",
       "    <tr>\n",
       "      <th>2</th>\n",
       "      <td>0.000</td>\n",
       "      <td>0.002</td>\n",
       "      <td>0.441</td>\n",
       "      <td>0.512</td>\n",
       "      <td>0.004</td>\n",
       "      <td>0.000</td>\n",
       "      <td>0.000</td>\n",
       "      <td>0.002</td>\n",
       "      <td>0.000</td>\n",
       "      <td>0.002</td>\n",
       "      <td>...</td>\n",
       "      <td>0.000</td>\n",
       "      <td>0.001</td>\n",
       "      <td>0.000</td>\n",
       "      <td>0.000</td>\n",
       "      <td>0.000</td>\n",
       "      <td>0.000</td>\n",
       "      <td>0.000</td>\n",
       "      <td>0.000</td>\n",
       "      <td>0.001</td>\n",
       "      <td>0.000</td>\n",
       "    </tr>\n",
       "    <tr>\n",
       "      <th>3</th>\n",
       "      <td>0.000</td>\n",
       "      <td>0.997</td>\n",
       "      <td>0.000</td>\n",
       "      <td>0.000</td>\n",
       "      <td>0.003</td>\n",
       "      <td>0.000</td>\n",
       "      <td>0.000</td>\n",
       "      <td>0.000</td>\n",
       "      <td>0.000</td>\n",
       "      <td>0.000</td>\n",
       "      <td>...</td>\n",
       "      <td>0.000</td>\n",
       "      <td>0.000</td>\n",
       "      <td>0.000</td>\n",
       "      <td>0.000</td>\n",
       "      <td>0.000</td>\n",
       "      <td>0.000</td>\n",
       "      <td>0.000</td>\n",
       "      <td>0.000</td>\n",
       "      <td>0.000</td>\n",
       "      <td>0.000</td>\n",
       "    </tr>\n",
       "    <tr>\n",
       "      <th>4</th>\n",
       "      <td>0.000</td>\n",
       "      <td>0.000</td>\n",
       "      <td>0.031</td>\n",
       "      <td>0.967</td>\n",
       "      <td>0.000</td>\n",
       "      <td>0.000</td>\n",
       "      <td>0.000</td>\n",
       "      <td>0.000</td>\n",
       "      <td>0.000</td>\n",
       "      <td>0.002</td>\n",
       "      <td>...</td>\n",
       "      <td>0.000</td>\n",
       "      <td>0.000</td>\n",
       "      <td>0.000</td>\n",
       "      <td>0.000</td>\n",
       "      <td>0.000</td>\n",
       "      <td>0.000</td>\n",
       "      <td>0.000</td>\n",
       "      <td>0.000</td>\n",
       "      <td>0.000</td>\n",
       "      <td>0.000</td>\n",
       "    </tr>\n",
       "  </tbody>\n",
       "</table>\n",
       "<p>5 rows × 42 columns</p>\n",
       "</div>"
      ],
      "text/plain": [
       "      0      1      2      3      4      5      6      7      8      9   \\\n",
       "0  0.001  0.001  0.005  0.214  0.015  0.003  0.091  0.285  0.004  0.004   \n",
       "1  0.000  0.001  0.000  0.000  0.983  0.000  0.000  0.000  0.000  0.000   \n",
       "2  0.000  0.002  0.441  0.512  0.004  0.000  0.000  0.002  0.000  0.002   \n",
       "3  0.000  0.997  0.000  0.000  0.003  0.000  0.000  0.000  0.000  0.000   \n",
       "4  0.000  0.000  0.031  0.967  0.000  0.000  0.000  0.000  0.000  0.002   \n",
       "\n",
       "   ...       32     33     34     35     36     37     38     39     40     41  \n",
       "0  ...    0.001  0.003  0.001  0.001  0.002  0.001  0.001  0.002  0.001  0.003  \n",
       "1  ...    0.000  0.000  0.000  0.000  0.000  0.000  0.000  0.000  0.000  0.000  \n",
       "2  ...    0.000  0.001  0.000  0.000  0.000  0.000  0.000  0.000  0.001  0.000  \n",
       "3  ...    0.000  0.000  0.000  0.000  0.000  0.000  0.000  0.000  0.000  0.000  \n",
       "4  ...    0.000  0.000  0.000  0.000  0.000  0.000  0.000  0.000  0.000  0.000  \n",
       "\n",
       "[5 rows x 42 columns]"
      ]
     },
     "execution_count": 7,
     "metadata": {},
     "output_type": "execute_result"
    }
   ],
   "source": [
    "prob.head()"
   ]
  },
  {
   "cell_type": "markdown",
   "metadata": {},
   "source": [
    "## 1: top n including empty; 0: other animals"
   ]
  },
  {
   "cell_type": "code",
   "execution_count": 12,
   "metadata": {
    "collapsed": true
   },
   "outputs": [],
   "source": [
    "def get_top_label(row):\n",
    "#     10: mouse; 20: squarrel; \n",
    "    if row.true_label==4 or row.true_label==5 or row.true_label==14 or row.true_label==20 or row.true_label==10 \\\n",
    "        or row.true_label==1:\n",
    "        return 1\n",
    "    else:\n",
    "        return 0"
   ]
  },
  {
   "cell_type": "code",
   "execution_count": 14,
   "metadata": {},
   "outputs": [
    {
     "data": {
      "text/html": [
       "<div>\n",
       "<style>\n",
       "    .dataframe thead tr:only-child th {\n",
       "        text-align: right;\n",
       "    }\n",
       "\n",
       "    .dataframe thead th {\n",
       "        text-align: left;\n",
       "    }\n",
       "\n",
       "    .dataframe tbody tr th {\n",
       "        vertical-align: top;\n",
       "    }\n",
       "</style>\n",
       "<table border=\"1\" class=\"dataframe\">\n",
       "  <thead>\n",
       "    <tr style=\"text-align: right;\">\n",
       "      <th></th>\n",
       "      <th>filename</th>\n",
       "      <th>true_label</th>\n",
       "      <th>pred_label</th>\n",
       "      <th>max_prob</th>\n",
       "      <th>is_top_label</th>\n",
       "    </tr>\n",
       "  </thead>\n",
       "  <tbody>\n",
       "    <tr>\n",
       "      <th>0</th>\n",
       "      <td>L-LJS17-E9B-0177.JPG</td>\n",
       "      <td>7</td>\n",
       "      <td>7</td>\n",
       "      <td>0.285</td>\n",
       "      <td>0</td>\n",
       "    </tr>\n",
       "    <tr>\n",
       "      <th>1</th>\n",
       "      <td>L-TC17-H12A-0195.JPG</td>\n",
       "      <td>6</td>\n",
       "      <td>4</td>\n",
       "      <td>0.983</td>\n",
       "      <td>0</td>\n",
       "    </tr>\n",
       "    <tr>\n",
       "      <th>2</th>\n",
       "      <td>L-YL17-I41A-0149.JPG</td>\n",
       "      <td>1</td>\n",
       "      <td>3</td>\n",
       "      <td>0.512</td>\n",
       "      <td>1</td>\n",
       "    </tr>\n",
       "    <tr>\n",
       "      <th>3</th>\n",
       "      <td>L-TC17-H12A-0084.JPG</td>\n",
       "      <td>6</td>\n",
       "      <td>1</td>\n",
       "      <td>0.997</td>\n",
       "      <td>0</td>\n",
       "    </tr>\n",
       "    <tr>\n",
       "      <th>4</th>\n",
       "      <td>L-YL17-I42A-0164.JPG</td>\n",
       "      <td>3</td>\n",
       "      <td>3</td>\n",
       "      <td>0.967</td>\n",
       "      <td>0</td>\n",
       "    </tr>\n",
       "  </tbody>\n",
       "</table>\n",
       "</div>"
      ],
      "text/plain": [
       "               filename  true_label  pred_label  max_prob  is_top_label\n",
       "0  L-LJS17-E9B-0177.JPG           7           7     0.285             0\n",
       "1  L-TC17-H12A-0195.JPG           6           4     0.983             0\n",
       "2  L-YL17-I41A-0149.JPG           1           3     0.512             1\n",
       "3  L-TC17-H12A-0084.JPG           6           1     0.997             0\n",
       "4  L-YL17-I42A-0164.JPG           3           3     0.967             0"
      ]
     },
     "execution_count": 14,
     "metadata": {},
     "output_type": "execute_result"
    }
   ],
   "source": [
    "label['is_top_label'] =  label.apply(lambda row: get_top_label(row), axis=1)\n",
    "label.head()"
   ]
  },
  {
   "cell_type": "code",
   "execution_count": 24,
   "metadata": {},
   "outputs": [
    {
     "name": "stdout",
     "output_type": "stream",
     "text": [
      "Other: 770\n",
      "top n: 658\n"
     ]
    }
   ],
   "source": [
    "print(\"Other: {}\".format(label[label.is_top_label==0].shape[0]))\n",
    "print(\"top n: {}\".format(label[label.is_top_label==1].shape[0]))"
   ]
  },
  {
   "cell_type": "markdown",
   "metadata": {},
   "source": [
    "## Simple model"
   ]
  },
  {
   "cell_type": "code",
   "execution_count": 16,
   "metadata": {
    "collapsed": true
   },
   "outputs": [],
   "source": [
    "X_train, X_test, y_train, y_test = train_test_split(prob, label.is_top_label,\n",
    "                                                    test_size=0.3, random_state= 0)"
   ]
  },
  {
   "cell_type": "code",
   "execution_count": 18,
   "metadata": {
    "collapsed": true
   },
   "outputs": [],
   "source": [
    "def compute_auc_score(X, y, model):\n",
    "    \"\"\" Compute area under curve for roc curve (larger better) \n",
    "        Used to evaluate model with almost balanced class\n",
    "    Parameters\n",
    "    ----------\n",
    "    X: array\n",
    "        Feature array\n",
    "    y: array\n",
    "        True label array\n",
    "    model: logistic regression model (or other model)\n",
    "        trained model\n",
    "        \n",
    "    Returns\n",
    "    -------\n",
    "    double\n",
    "        area under curve\n",
    "    \"\"\"\n",
    "    probas_ = model.predict_proba(X)\n",
    "    fpr, tpr, thresholds = roc_curve(y, probas_[:, 1])\n",
    "    return auc(fpr, tpr)\n",
    "\n",
    "def norm_conf_matrix(Xtest, ytest, model):\n",
    "    \"\"\" Compute normalized confusion matrix for postive/negative accuracy\n",
    "    \"\"\"\n",
    "    cm_1 = confusion_matrix(ytest, model.predict(Xtest))\n",
    "#     cm_1 = cm_1.astype('float')/cm_1.sum(axis=1)[:, None]\n",
    "    return cm_1\n",
    "\n",
    "def custom_threshold(Xtest, model, threshold):\n",
    "    \"\"\" Generate predicted label use defined threshold instead of .5\n",
    "    Example: \n",
    "        y_label = custom_threshold(Xtrain,model,0.8)\n",
    "    \"\"\"\n",
    "    y_pred_prob = model.predict_proba(Xtest)\n",
    "    y_pred = y_pred_prob[:,1] > threshold\n",
    "    return y_pred"
   ]
  },
  {
   "cell_type": "code",
   "execution_count": 33,
   "metadata": {
    "collapsed": true
   },
   "outputs": [],
   "source": [
    "def cross_validate_helper(c, train_x, train_y, test_x, test_y):\n",
    "    print()\n",
    "    \n",
    "    print(\"c is {}\".format(c))\n",
    "    logistic_model = LogisticRegression(penalty='l2', C=c, class_weight = 'balanced') #class_weight = 'balanced'\n",
    "    logistic_model.fit(train_x,train_y)\n",
    "#     model evaludations\n",
    "#     auc = compute_auc_score(test_x,test_y, logistic_model)\n",
    "#     print(\"AUC validation score: %.2f\"%(auc))\n",
    "    pr = precision_recall_fscore_support(test_y,logistic_model.predict(test_x))\n",
    "#     print('Postive class precision:%.3f, recall:%.3f and f-score: %.3f'%\n",
    "#           (pr[0][1],pr[1][1], pr[2][1]))\n",
    "    print('Negative class precision:%.3f, recall:%.3f and f-score: %.3f'%\n",
    "          (pr[0][0],pr[1][0], pr[2][0]))    \n",
    "    cm = confusion_matrix(test_y, custom_threshold(test_x,logistic_model,0.5))\n",
    "    print(cm)"
   ]
  },
  {
   "cell_type": "code",
   "execution_count": 34,
   "metadata": {},
   "outputs": [
    {
     "name": "stdout",
     "output_type": "stream",
     "text": [
      "\n",
      "c is 0.01\n",
      "Negative class precision:0.661, recall:0.655 and f-score: 0.658\n",
      "[[146  77]\n",
      " [ 75 131]]\n",
      "\n",
      "c is 0.1\n",
      "Negative class precision:0.691, recall:0.722 and f-score: 0.706\n",
      "[[161  62]\n",
      " [ 72 134]]\n",
      "\n",
      "c is 0.5\n",
      "Negative class precision:0.694, recall:0.753 and f-score: 0.723\n",
      "[[168  55]\n",
      " [ 74 132]]\n",
      "\n",
      "c is 1\n",
      "Negative class precision:0.697, recall:0.762 and f-score: 0.728\n",
      "[[170  53]\n",
      " [ 74 132]]\n",
      "\n",
      "c is 10\n",
      "Negative class precision:0.695, recall:0.767 and f-score: 0.729\n",
      "[[171  52]\n",
      " [ 75 131]]\n",
      "\n",
      "c is 50\n",
      "Negative class precision:0.699, recall:0.771 and f-score: 0.733\n",
      "[[172  51]\n",
      " [ 74 132]]\n",
      "\n",
      "c is 100\n",
      "Negative class precision:0.699, recall:0.771 and f-score: 0.733\n",
      "[[172  51]\n",
      " [ 74 132]]\n",
      "\n",
      "c is 500\n",
      "Negative class precision:0.699, recall:0.780 and f-score: 0.737\n",
      "[[174  49]\n",
      " [ 75 131]]\n",
      "\n",
      "c is 1000\n",
      "Negative class precision:0.702, recall:0.780 and f-score: 0.739\n",
      "[[174  49]\n",
      " [ 74 132]]\n"
     ]
    }
   ],
   "source": [
    "for c in [0.01, 0.1, 0.5, 1, 10, 50, 100, 500, 1000]:\n",
    "    cross_validate_helper(c, X_train, y_train, X_test, y_test)"
   ]
  },
  {
   "cell_type": "markdown",
   "metadata": {},
   "source": [
    "## Actual model"
   ]
  },
  {
   "cell_type": "code",
   "execution_count": 35,
   "metadata": {},
   "outputs": [
    {
     "data": {
      "text/plain": [
       "LogisticRegression(C=1000, class_weight='balanced', dual=False,\n",
       "          fit_intercept=True, intercept_scaling=1, max_iter=100,\n",
       "          multi_class='ovr', n_jobs=1, penalty='l2', random_state=None,\n",
       "          solver='liblinear', tol=0.0001, verbose=0, warm_start=False)"
      ]
     },
     "execution_count": 35,
     "metadata": {},
     "output_type": "execute_result"
    }
   ],
   "source": [
    "logistic_model = LogisticRegression(penalty='l2',  C=1000, class_weight = 'balanced') #class_weight = 'balanced'\n",
    "logistic_model.fit(X_train,y_train)"
   ]
  },
  {
   "cell_type": "code",
   "execution_count": 50,
   "metadata": {},
   "outputs": [
    {
     "name": "stdout",
     "output_type": "stream",
     "text": [
      "\n",
      "threshold: 0.5\n",
      "Of all has animal, how much we returned: 0.780\n",
      "Of all returned photo we predicted as has animal, how many do have animal: 0.702\n",
      "\n",
      "threshold: 0.65\n",
      "Of all has animal, how much we returned: 0.852\n",
      "Of all returned photo we predicted as has animal, how many do have animal: 0.674\n",
      "\n",
      "threshold: 0.8\n",
      "Of all has animal, how much we returned: 0.946\n",
      "Of all returned photo we predicted as has animal, how many do have animal: 0.596\n"
     ]
    }
   ],
   "source": [
    "for thred in [0.5, 0.65, 0.8]:\n",
    "    cm = confusion_matrix(y_test, custom_threshold(X_test,logistic_model,thred))\n",
    "    print()\n",
    "    print(\"threshold: {}\".format(thred))\n",
    "    print(\"Of all has animal, how much we returned: %.3f\"%(cm[0][0]/(cm[0][0]+cm[0][1])))\n",
    "    print(\"Of all returned photo we predicted as has animal, how many do have animal: %.3f\"%(cm[0][0]/(cm[0][0]+cm[1][0])))\n"
   ]
  },
  {
   "cell_type": "code",
   "execution_count": null,
   "metadata": {
    "collapsed": true
   },
   "outputs": [],
   "source": []
  }
 ],
 "metadata": {
  "kernelspec": {
   "display_name": "Python 3",
   "language": "python",
   "name": "python3"
  },
  "language_info": {
   "codemirror_mode": {
    "name": "ipython",
    "version": 3
   },
   "file_extension": ".py",
   "mimetype": "text/x-python",
   "name": "python",
   "nbconvert_exporter": "python",
   "pygments_lexer": "ipython3",
   "version": "3.6.3"
  }
 },
 "nbformat": 4,
 "nbformat_minor": 2
}
